{
 "cells": [
  {
   "cell_type": "code",
   "execution_count": null,
   "id": "ad31de19",
   "metadata": {},
   "outputs": [],
   "source": [
    "import qrcode"
   ]
  },
  {
   "cell_type": "code",
   "execution_count": null,
   "id": "1a5005d4",
   "metadata": {},
   "outputs": [],
   "source": [
    "def GenerateQR(textData):\n",
    "    \n",
    "    img=qrcode.make(textData)\n",
    "    \n",
    "    showQR= input(\"Do you wish to View the QR code generated? (Y/N): \")\n",
    "    if(showQR.lower()==\"y\" or showQR.lower()==\"yes\"):\n",
    "        img.show()\n",
    "    \n",
    "    saveChoice=input(\"Do you wish to save the file? (Y/N): \")\n",
    "    \n",
    "    if (saveChoice.lower()==\"y\" or saveChoice.lower()==\"yes\"):\n",
    "        \n",
    "        fileName=input(\"Please enter your file name: \")\n",
    "        \n",
    "        locationChoice= input(\"Do you wish to save the file in same location? (Y/N): \")\n",
    "        \n",
    "        if (locationChoice.lower()==\"y\" or locationChoice.lower()==\"yes\"):\n",
    "            img.save(f'{fileName}.png')\n",
    "            \n",
    "        else:\n",
    "            path=input(\"Enter the path you wish to save your file at: \")\n",
    "            img.save(f'{path}/{fileName}.png')\n",
    "    \n",
    "    \n",
    "    \n",
    "    \n",
    "    print(\"Thank you! Have a nice day\")\n"
   ]
  },
  {
   "cell_type": "code",
   "execution_count": null,
   "id": "331e10ea",
   "metadata": {},
   "outputs": [],
   "source": [
    "textData= input(\"Enter the data you wish to convert to QR \")\n",
    "GenerateQR(textData)"
   ]
  },
  {
   "cell_type": "code",
   "execution_count": null,
   "id": "f49a08ca",
   "metadata": {},
   "outputs": [],
   "source": []
  },
  {
   "cell_type": "code",
   "execution_count": null,
   "id": "07108ee5",
   "metadata": {},
   "outputs": [],
   "source": []
  }
 ],
 "metadata": {
  "kernelspec": {
   "display_name": "Python 3 (ipykernel)",
   "language": "python",
   "name": "python3"
  },
  "language_info": {
   "codemirror_mode": {
    "name": "ipython",
    "version": 3
   },
   "file_extension": ".py",
   "mimetype": "text/x-python",
   "name": "python",
   "nbconvert_exporter": "python",
   "pygments_lexer": "ipython3",
   "version": "3.9.12"
  }
 },
 "nbformat": 4,
 "nbformat_minor": 5
}
